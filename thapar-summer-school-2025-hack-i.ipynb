{
 "cells": [
  {
   "cell_type": "code",
   "execution_count": 1,
   "id": "675d516d",
   "metadata": {
    "_cell_guid": "b1076dfc-b9ad-4769-8c92-a6c4dae69d19",
    "_uuid": "8f2839f25d086af736a60e9eeb907d3b93b6e0e5",
    "execution": {
     "iopub.execute_input": "2025-06-22T06:43:31.273486Z",
     "iopub.status.busy": "2025-06-22T06:43:31.273131Z",
     "iopub.status.idle": "2025-06-22T06:43:33.050539Z",
     "shell.execute_reply": "2025-06-22T06:43:33.049325Z"
    },
    "papermill": {
     "duration": 1.783998,
     "end_time": "2025-06-22T06:43:33.052184",
     "exception": false,
     "start_time": "2025-06-22T06:43:31.268186",
     "status": "completed"
    },
    "tags": []
   },
   "outputs": [
    {
     "name": "stdout",
     "output_type": "stream",
     "text": [
      "/kaggle/input/first-dataset/sample_submission.csv\n",
      "/kaggle/input/first-dataset/train.csv\n",
      "/kaggle/input/first-dataset/test.csv\n",
      "/kaggle/input/summer-school-hack-i/sample_submission.csv\n",
      "/kaggle/input/summer-school-hack-i/train.csv\n",
      "/kaggle/input/summer-school-hack-i/test.csv\n"
     ]
    }
   ],
   "source": [
    "# This Python 3 environment comes with many helpful analytics libraries installed\n",
    "# It is defined by the kaggle/python Docker image: https://github.com/kaggle/docker-python\n",
    "# For example, here's several helpful packages to load\n",
    "\n",
    "import numpy as np # linear algebra\n",
    "import pandas as pd # data processing, CSV file I/O (e.g. pd.read_csv)\n",
    "\n",
    "# Input data files are available in the read-only \"../input/\" directory\n",
    "# For example, running this (by clicking run or pressing Shift+Enter) will list all files under the input directory\n",
    "\n",
    "import os\n",
    "for dirname, _, filenames in os.walk('/kaggle/input'):\n",
    "    for filename in filenames:\n",
    "        print(os.path.join(dirname, filename))\n",
    "\n",
    "# You can write up to 20GB to the current directory (/kaggle/working/) that gets preserved as output when you create a version using \"Save & Run All\" \n",
    "# You can also write temporary files to /kaggle/temp/, but they won't be saved outside of the current session"
   ]
  },
  {
   "cell_type": "code",
   "execution_count": 2,
   "id": "baa14ad0",
   "metadata": {
    "execution": {
     "iopub.execute_input": "2025-06-22T06:43:33.061408Z",
     "iopub.status.busy": "2025-06-22T06:43:33.060948Z",
     "iopub.status.idle": "2025-06-22T06:43:33.128050Z",
     "shell.execute_reply": "2025-06-22T06:43:33.127116Z"
    },
    "papermill": {
     "duration": 0.072929,
     "end_time": "2025-06-22T06:43:33.129762",
     "exception": false,
     "start_time": "2025-06-22T06:43:33.056833",
     "status": "completed"
    },
    "tags": []
   },
   "outputs": [],
   "source": [
    "train=pd.read_csv(\"/kaggle/input/summer-school-hack-i/train.csv\")\n",
    "test=pd.read_csv(\"/kaggle/input/summer-school-hack-i/test.csv\")"
   ]
  },
  {
   "cell_type": "code",
   "execution_count": 3,
   "id": "34972860",
   "metadata": {
    "execution": {
     "iopub.execute_input": "2025-06-22T06:43:33.137354Z",
     "iopub.status.busy": "2025-06-22T06:43:33.137060Z",
     "iopub.status.idle": "2025-06-22T06:43:33.217205Z",
     "shell.execute_reply": "2025-06-22T06:43:33.216193Z"
    },
    "papermill": {
     "duration": 0.085784,
     "end_time": "2025-06-22T06:43:33.218935",
     "exception": false,
     "start_time": "2025-06-22T06:43:33.133151",
     "status": "completed"
    },
    "tags": []
   },
   "outputs": [
    {
     "name": "stdout",
     "output_type": "stream",
     "text": [
      "       f1      f2      f3      f4      f5      f6      f7      f8      f9  \\\n",
      "0  52.843  66.492  57.300  25.224  39.213  56.593  27.157  67.453  55.690   \n",
      "1  50.478  53.147  46.412  38.045  52.160  50.398  60.157  44.022  48.668   \n",
      "2  16.432  30.201  43.268  76.786  58.864  24.046  46.519  63.948  50.190   \n",
      "3  39.355  33.501  76.737  57.453  58.991  49.938  42.713  71.836  47.394   \n",
      "4  30.337  62.905  70.896  35.969  45.878  56.114  45.075  61.684  58.865   \n",
      "\n",
      "      f10  ...     f12     f13     f14     f15     f16     f17     f18  \\\n",
      "0  36.504  ...  46.375  78.489  36.789  55.797  43.135  37.513  64.094   \n",
      "1  45.512  ...  61.904  46.994  35.492  55.057  43.859  54.722  51.982   \n",
      "2  65.539  ...  27.011  26.714  66.842  32.628  47.996  75.920  24.627   \n",
      "3  64.772  ...  44.349  45.166  85.341  32.967  26.003  40.192  41.518   \n",
      "4  41.360  ...  45.491  65.265  48.155  49.756  48.782  44.316  43.562   \n",
      "\n",
      "      f19     f20     target  \n",
      "0  43.039  42.852  148.76994  \n",
      "1  43.310  46.613  152.01250  \n",
      "2  56.853  65.180  141.96694  \n",
      "3  74.502  37.807  152.49692  \n",
      "4  41.068  52.805  149.01620  \n",
      "\n",
      "[5 rows x 21 columns]\n",
      "<class 'pandas.core.frame.DataFrame'>\n",
      "RangeIndex: 5000 entries, 0 to 4999\n",
      "Data columns (total 21 columns):\n",
      " #   Column  Non-Null Count  Dtype  \n",
      "---  ------  --------------  -----  \n",
      " 0   f1      5000 non-null   float64\n",
      " 1   f2      5000 non-null   float64\n",
      " 2   f3      5000 non-null   float64\n",
      " 3   f4      5000 non-null   float64\n",
      " 4   f5      5000 non-null   float64\n",
      " 5   f6      5000 non-null   float64\n",
      " 6   f7      5000 non-null   float64\n",
      " 7   f8      5000 non-null   float64\n",
      " 8   f9      5000 non-null   float64\n",
      " 9   f10     5000 non-null   float64\n",
      " 10  f11     5000 non-null   float64\n",
      " 11  f12     5000 non-null   float64\n",
      " 12  f13     5000 non-null   float64\n",
      " 13  f14     5000 non-null   float64\n",
      " 14  f15     5000 non-null   float64\n",
      " 15  f16     5000 non-null   float64\n",
      " 16  f17     5000 non-null   float64\n",
      " 17  f18     5000 non-null   float64\n",
      " 18  f19     5000 non-null   float64\n",
      " 19  f20     5000 non-null   float64\n",
      " 20  target  5000 non-null   float64\n",
      "dtypes: float64(21)\n",
      "memory usage: 820.4 KB\n",
      "None\n",
      "                f1           f2           f3           f4           f5  \\\n",
      "count  5000.000000  5000.000000  5000.000000  5000.000000  5000.000000   \n",
      "mean     46.698872    45.801463    48.094232    44.468013    50.667154   \n",
      "std      13.289450     9.813469    11.402981    11.016654    11.344568   \n",
      "min       6.840000    12.002000    13.298000     7.323000     6.686000   \n",
      "25%      37.172500    39.167750    40.308500    36.942500    43.241250   \n",
      "50%      46.903000    45.839000    47.775000    44.493500    51.040500   \n",
      "75%      56.013250    52.254500    55.543000    52.002750    58.567000   \n",
      "max      94.306000   100.000000    88.591000    79.614000    96.941000   \n",
      "\n",
      "                f6           f7           f8           f9          f10  ...  \\\n",
      "count  5000.000000  5000.000000  5000.000000  5000.000000  5000.000000  ...   \n",
      "mean     48.512839    52.630687    55.651990    51.721884    46.760628  ...   \n",
      "std      11.588421    12.017262    11.245779    10.193929    12.002280  ...   \n",
      "min       9.149000     5.257000     7.937000     7.637000     9.942000  ...   \n",
      "25%      40.422500    44.684500    48.388750    44.841750    38.364000  ...   \n",
      "50%      48.582500    53.196500    56.033000    51.781500    46.083000  ...   \n",
      "75%      56.350250    61.151500    63.296250    58.445250    54.517500  ...   \n",
      "max      86.900000    89.096000    93.066000    87.121000    95.320000  ...   \n",
      "\n",
      "               f12          f13          f14          f15          f16  \\\n",
      "count  5000.000000  5000.000000  5000.000000  5000.000000  5000.000000   \n",
      "mean     49.714644    48.902636    50.096995    54.255311    45.752170   \n",
      "std       9.950373    11.425209    14.809340    12.532113     9.567944   \n",
      "min      16.730000    11.270000     7.739000    11.702000     9.248000   \n",
      "25%      43.030750    41.144500    39.242250    45.788500    39.266750   \n",
      "50%      49.801000    48.988000    50.047000    54.723000    45.767500   \n",
      "75%      56.248250    56.279500    60.655250    63.191750    52.057000   \n",
      "max     100.000000    95.823000    93.294000    92.510000    86.451000   \n",
      "\n",
      "               f17          f18          f19          f20       target  \n",
      "count  5000.000000  5000.000000  5000.000000  5000.000000  5000.000000  \n",
      "mean     51.946271    47.748071    53.668650    48.388950   150.814998  \n",
      "std      11.379881    13.012365    11.705848     9.256078     6.698359  \n",
      "min      11.567000     0.155000    15.743000     3.419000   123.777540  \n",
      "25%      43.920000    38.880000    45.220500    42.138500   146.420845  \n",
      "50%      51.500000    47.743000    53.638000    48.350000   150.758330  \n",
      "75%      59.479250    56.946750    61.952500    54.521000   155.280050  \n",
      "max      95.233000    91.331000    93.582000    81.779000   177.768260  \n",
      "\n",
      "[8 rows x 21 columns]\n",
      "f1        0\n",
      "f2        0\n",
      "f3        0\n",
      "f4        0\n",
      "f5        0\n",
      "f6        0\n",
      "f7        0\n",
      "f8        0\n",
      "f9        0\n",
      "f10       0\n",
      "f11       0\n",
      "f12       0\n",
      "f13       0\n",
      "f14       0\n",
      "f15       0\n",
      "f16       0\n",
      "f17       0\n",
      "f18       0\n",
      "f19       0\n",
      "f20       0\n",
      "target    0\n",
      "dtype: int64\n"
     ]
    }
   ],
   "source": [
    "print(train.head())\n",
    "print(train.info())\n",
    "print(train.describe())\n",
    "print(train.isnull().sum())\n"
   ]
  },
  {
   "cell_type": "code",
   "execution_count": 4,
   "id": "3798ace4",
   "metadata": {
    "execution": {
     "iopub.execute_input": "2025-06-22T06:43:33.227006Z",
     "iopub.status.busy": "2025-06-22T06:43:33.226714Z",
     "iopub.status.idle": "2025-06-22T06:43:33.558862Z",
     "shell.execute_reply": "2025-06-22T06:43:33.557976Z"
    },
    "papermill": {
     "duration": 0.33789,
     "end_time": "2025-06-22T06:43:33.560458",
     "exception": false,
     "start_time": "2025-06-22T06:43:33.222568",
     "status": "completed"
    },
    "tags": []
   },
   "outputs": [
    {
     "data": {
      "image/png": "[encoded data removed]",
      "text/plain": [
       "<Figure size 640x480 with 1 Axes>"
      ]
     },
     "metadata": {},
     "output_type": "display_data"
    }
   ],
   "source": [
    "import matplotlib.pyplot as plt\n",
    "plt.hist(train['target'], bins=50)  # replace 'target_column' with your actual target\n",
    "plt.show()\n"
   ]
  },
  {
   "cell_type": "code",
   "execution_count": 5,
   "id": "a35487d4",
   "metadata": {
    "execution": {
     "iopub.execute_input": "2025-06-22T06:43:33.568950Z",
     "iopub.status.busy": "2025-06-22T06:43:33.568690Z",
     "iopub.status.idle": "2025-06-22T06:43:45.223074Z",
     "shell.execute_reply": "2025-06-22T06:43:45.222039Z"
    },
    "papermill": {
     "duration": 11.660364,
     "end_time": "2025-06-22T06:43:45.224584",
     "exception": false,
     "start_time": "2025-06-22T06:43:33.564220",
     "status": "completed"
    },
    "tags": []
   },
   "outputs": [
    {
     "name": "stdout",
     "output_type": "stream",
     "text": [
      "Validation R2 score: 0.34504201400834666\n"
     ]
    }
   ],
   "source": [
    "from sklearn.model_selection import train_test_split\n",
    "from sklearn.ensemble import RandomForestRegressor\n",
    "from sklearn.metrics import r2_score\n",
    "\n",
    "X = train.drop(columns=['target'])  # features\n",
    "y = train['target']                   # target\n",
    "\n",
    "X_train, X_valid, y_train, y_valid = train_test_split(X, y, test_size=0.2, random_state=42)\n",
    "\n",
    "model = RandomForestRegressor(n_estimators=100, random_state=42)\n",
    "model.fit(X_train, y_train)\n",
    "\n",
    "y_pred = model.predict(X_valid)\n",
    "print(\"Validation R2 score:\", r2_score(y_valid, y_pred))\n"
   ]
  },
  {
   "cell_type": "code",
   "execution_count": 6,
   "id": "5e30efc8",
   "metadata": {
    "execution": {
     "iopub.execute_input": "2025-06-22T06:43:45.233513Z",
     "iopub.status.busy": "2025-06-22T06:43:45.232987Z",
     "iopub.status.idle": "2025-06-22T06:43:55.095313Z",
     "shell.execute_reply": "2025-06-22T06:43:55.094201Z"
    },
    "papermill": {
     "duration": 9.868356,
     "end_time": "2025-06-22T06:43:55.096907",
     "exception": false,
     "start_time": "2025-06-22T06:43:45.228551",
     "status": "completed"
    },
    "tags": []
   },
   "outputs": [
    {
     "name": "stdout",
     "output_type": "stream",
     "text": [
      "Random Forest Validation R2: 0.34504201400834666\n"
     ]
    }
   ],
   "source": [
    "from sklearn.ensemble import RandomForestRegressor\n",
    "\n",
    "rf = RandomForestRegressor(n_estimators=100, random_state=42)\n",
    "rf.fit(X_train, y_train)\n",
    "\n",
    "y_rf_pred = rf.predict(X_valid)\n",
    "print(\"Random Forest Validation R2:\", r2_score(y_valid, y_rf_pred))\n"
   ]
  },
  {
   "cell_type": "markdown",
   "id": "dd3027b7",
   "metadata": {
    "papermill": {
     "duration": 0.003358,
     "end_time": "2025-06-22T06:43:55.103968",
     "exception": false,
     "start_time": "2025-06-22T06:43:55.100610",
     "status": "completed"
    },
    "tags": []
   },
   "source": [
    "Check Feature Importance"
   ]
  },
  {
   "cell_type": "code",
   "execution_count": 7,
   "id": "913b5ad6",
   "metadata": {
    "execution": {
     "iopub.execute_input": "2025-06-22T06:43:55.112202Z",
     "iopub.status.busy": "2025-06-22T06:43:55.111900Z",
     "iopub.status.idle": "2025-06-22T06:43:55.388591Z",
     "shell.execute_reply": "2025-06-22T06:43:55.387681Z"
    },
    "papermill": {
     "duration": 0.282558,
     "end_time": "2025-06-22T06:43:55.390083",
     "exception": false,
     "start_time": "2025-06-22T06:43:55.107525",
     "status": "completed"
    },
    "tags": []
   },
   "outputs": [
    {
     "data": {
      "image/png": "[encoded data removed]",
      "text/plain": [
       "<Figure size 1200x600 with 1 Axes>"
      ]
     },
     "metadata": {},
     "output_type": "display_data"
    }
   ],
   "source": [
    "import matplotlib.pyplot as plt\n",
    "import numpy as np\n",
    "\n",
    "importances = rf.feature_importances_\n",
    "features = X.columns\n",
    "\n",
    "indices = np.argsort(importances)[::-1]\n",
    "\n",
    "plt.figure(figsize=(12,6))\n",
    "plt.title(\"Feature Importances - Random Forest\")\n",
    "plt.bar(range(len(importances)), importances[indices], align='center')\n",
    "plt.xticks(range(len(importances)), features[indices], rotation=90)\n",
    "plt.tight_layout()\n",
    "plt.show()\n"
   ]
  },
  {
   "cell_type": "code",
   "execution_count": 8,
   "id": "8b62361c",
   "metadata": {
    "execution": {
     "iopub.execute_input": "2025-06-22T06:43:55.399823Z",
     "iopub.status.busy": "2025-06-22T06:43:55.399516Z",
     "iopub.status.idle": "2025-06-22T06:45:20.483982Z",
     "shell.execute_reply": "2025-06-22T06:45:20.483048Z"
    },
    "papermill": {
     "duration": 85.094871,
     "end_time": "2025-06-22T06:45:20.489413",
     "exception": false,
     "start_time": "2025-06-22T06:43:55.394542",
     "status": "completed"
    },
    "tags": []
   },
   "outputs": [
    {
     "name": "stdout",
     "output_type": "stream",
     "text": [
      "Fitting 3 folds for each of 25 candidates, totalling 75 fits\n",
      "Tuned Random Forest Validation R2: 0.3359198325690529\n"
     ]
    }
   ],
   "source": [
    "from sklearn.model_selection import RandomizedSearchCV\n",
    "from sklearn.ensemble import RandomForestRegressor\n",
    "from sklearn.metrics import r2_score\n",
    "\n",
    "# Use all features again since top-15 didn't improve\n",
    "X_train, X_valid, y_train, y_valid = train_test_split(X, y, test_size=0.2, random_state=42)\n",
    "\n",
    "param_dist = {\n",
    "    'n_estimators': [100, 200, 300, 500],\n",
    "    'max_depth': [10, 20, 30, None],\n",
    "    'min_samples_split': [2, 5, 10],\n",
    "    'min_samples_leaf': [1, 2, 4],\n",
    "    'max_features': ['sqrt', 'log2']\n",
    "}\n",
    "\n",
    "rf = RandomForestRegressor(random_state=42)\n",
    "\n",
    "random_search = RandomizedSearchCV(rf, param_distributions=param_dist,\n",
    "                                   n_iter=25, cv=3, verbose=2, random_state=42, n_jobs=-1)\n",
    "\n",
    "random_search.fit(X_train, y_train)\n",
    "\n",
    "best_rf = random_search.best_estimator_\n",
    "\n",
    "y_pred = best_rf.predict(X_valid)\n",
    "print(\"Tuned Random Forest Validation R2:\", r2_score(y_valid, y_pred))\n"
   ]
  },
  {
   "cell_type": "code",
   "execution_count": 9,
   "id": "a794a9cb",
   "metadata": {
    "execution": {
     "iopub.execute_input": "2025-06-22T06:45:20.498959Z",
     "iopub.status.busy": "2025-06-22T06:45:20.498653Z",
     "iopub.status.idle": "2025-06-22T06:45:50.750252Z",
     "shell.execute_reply": "2025-06-22T06:45:50.749448Z"
    },
    "papermill": {
     "duration": 30.262213,
     "end_time": "2025-06-22T06:45:50.755754",
     "exception": false,
     "start_time": "2025-06-22T06:45:20.493541",
     "status": "completed"
    },
    "tags": []
   },
   "outputs": [
    {
     "name": "stdout",
     "output_type": "stream",
     "text": [
      "Cross-validated R2 scores: [0.33079112 0.32792123 0.2964773  0.35300417 0.29997035]\n",
      "Mean CV R2: 0.3216328344125303\n"
     ]
    }
   ],
   "source": [
    "from sklearn.model_selection import cross_val_score\n",
    "rf = RandomForestRegressor(**random_search.best_params_, random_state=42)\n",
    "\n",
    "scores = cross_val_score(rf, X, y, cv=5, scoring='r2')\n",
    "print(\"Cross-validated R2 scores:\", scores)\n",
    "print(\"Mean CV R2:\", scores.mean())\n"
   ]
  },
  {
   "cell_type": "code",
   "execution_count": 10,
   "id": "14ef4364",
   "metadata": {
    "execution": {
     "iopub.execute_input": "2025-06-22T06:45:50.766126Z",
     "iopub.status.busy": "2025-06-22T06:45:50.765315Z",
     "iopub.status.idle": "2025-06-22T06:45:56.767001Z",
     "shell.execute_reply": "2025-06-22T06:45:56.765870Z"
    },
    "papermill": {
     "duration": 6.008508,
     "end_time": "2025-06-22T06:45:56.768632",
     "exception": false,
     "start_time": "2025-06-22T06:45:50.760124",
     "status": "completed"
    },
    "tags": []
   },
   "outputs": [
    {
     "name": "stdout",
     "output_type": "stream",
     "text": [
      "Training until validation scores don't improve for 50 rounds\n",
      "[50]\ttrain's rmse: 4.8661\tvalid's rmse: 5.305\n",
      "[100]\ttrain's rmse: 4.14849\tvalid's rmse: 5.07642\n",
      "[150]\ttrain's rmse: 3.6572\tvalid's rmse: 5.02554\n",
      "[200]\ttrain's rmse: 3.26084\tvalid's rmse: 4.99488\n",
      "[250]\ttrain's rmse: 2.92678\tvalid's rmse: 4.97834\n",
      "[300]\ttrain's rmse: 2.63715\tvalid's rmse: 4.98235\n",
      "Early stopping, best iteration is:\n",
      "[250]\ttrain's rmse: 2.92678\tvalid's rmse: 4.97834\n",
      "LightGBM Validation R2: 0.40921083839809913\n"
     ]
    }
   ],
   "source": [
    "import lightgbm as lgb\n",
    "from sklearn.metrics import r2_score\n",
    "from sklearn.model_selection import train_test_split\n",
    "\n",
    "# Split data\n",
    "X_train, X_valid, y_train, y_valid = train_test_split(X, y, test_size=0.2, random_state=42)\n",
    "\n",
    "# LightGBM datasets\n",
    "train_data = lgb.Dataset(X_train, label=y_train)\n",
    "valid_data = lgb.Dataset(X_valid, label=y_valid)\n",
    "\n",
    "# Parameters\n",
    "params = {\n",
    "    'objective': 'regression',\n",
    "    'metric': 'rmse',\n",
    "    'learning_rate': 0.05,\n",
    "    'num_leaves': 31,\n",
    "    'feature_fraction': 0.9,\n",
    "    'bagging_fraction': 0.8,\n",
    "    'bagging_freq': 5,\n",
    "    'verbose': -1\n",
    "}\n",
    "\n",
    "# Use callbacks for early stopping and logging\n",
    "callbacks = [\n",
    "    lgb.early_stopping(stopping_rounds=50),\n",
    "    lgb.log_evaluation(period=50)\n",
    "]\n",
    "\n",
    "# Train model\n",
    "model = lgb.train(\n",
    "    params,\n",
    "    train_data,\n",
    "    valid_sets=[train_data, valid_data],\n",
    "    valid_names=['train', 'valid'],\n",
    "    num_boost_round=1000,\n",
    "    callbacks=callbacks\n",
    ")\n",
    "\n",
    "# Predict and evaluate\n",
    "y_pred = model.predict(X_valid, num_iteration=model.best_iteration)\n",
    "print(\"LightGBM Validation R2:\", r2_score(y_valid, y_pred))\n"
   ]
  },
  {
   "cell_type": "code",
   "execution_count": 11,
   "id": "83009f5e",
   "metadata": {
    "execution": {
     "iopub.execute_input": "2025-06-22T06:45:56.782695Z",
     "iopub.status.busy": "2025-06-22T06:45:56.782047Z",
     "iopub.status.idle": "2025-06-22T06:46:00.839923Z",
     "shell.execute_reply": "2025-06-22T06:46:00.838999Z"
    },
    "papermill": {
     "duration": 4.066648,
     "end_time": "2025-06-22T06:46:00.841505",
     "exception": false,
     "start_time": "2025-06-22T06:45:56.774857",
     "status": "completed"
    },
    "tags": []
   },
   "outputs": [
    {
     "name": "stdout",
     "output_type": "stream",
     "text": [
      "0:\tlearn: 6.7037444\ttest: 6.4507661\tbest: 6.4507661 (0)\ttotal: 58.1ms\tremaining: 58s\n",
      "100:\tlearn: 5.4774159\ttest: 5.4950867\tbest: 5.4950867 (100)\ttotal: 387ms\tremaining: 3.44s\n",
      "200:\tlearn: 5.0811617\ttest: 5.2782164\tbest: 5.2779946 (199)\ttotal: 711ms\tremaining: 2.83s\n",
      "300:\tlearn: 4.6955088\ttest: 5.1486320\tbest: 5.1486320 (300)\ttotal: 1.03s\tremaining: 2.4s\n",
      "400:\tlearn: 4.3806891\ttest: 5.0799678\tbest: 5.0792737 (398)\ttotal: 1.35s\tremaining: 2.02s\n",
      "500:\tlearn: 4.1088884\ttest: 5.0318930\tbest: 5.0318930 (500)\ttotal: 1.68s\tremaining: 1.67s\n",
      "600:\tlearn: 3.8659208\ttest: 5.0080110\tbest: 5.0080110 (600)\ttotal: 2s\tremaining: 1.33s\n",
      "700:\tlearn: 3.6425697\ttest: 4.9878819\tbest: 4.9878819 (700)\ttotal: 2.33s\tremaining: 993ms\n",
      "800:\tlearn: 3.4401952\ttest: 4.9772002\tbest: 4.9772002 (800)\ttotal: 2.65s\tremaining: 659ms\n",
      "900:\tlearn: 3.2460549\ttest: 4.9739928\tbest: 4.9721489 (872)\ttotal: 2.98s\tremaining: 328ms\n",
      "999:\tlearn: 3.0683868\ttest: 4.9564197\tbest: 4.9564197 (999)\ttotal: 3.31s\tremaining: 0us\n",
      "\n",
      "bestTest = 4.956419728\n",
      "bestIteration = 999\n",
      "\n",
      "CatBoost R2: 0.4144015428858082\n"
     ]
    }
   ],
   "source": [
    "from catboost import CatBoostRegressor\n",
    "\n",
    "model = CatBoostRegressor(\n",
    "    iterations=1000,\n",
    "    learning_rate=0.05,\n",
    "    depth=6,\n",
    "    loss_function='RMSE',\n",
    "    early_stopping_rounds=50,\n",
    "    verbose=100\n",
    ")\n",
    "model.fit(X_train, y_train, eval_set=(X_valid, y_valid))\n",
    "y_pred = model.predict(X_valid)\n",
    "print(\"CatBoost R2:\", r2_score(y_valid, y_pred))\n"
   ]
  },
  {
   "cell_type": "code",
   "execution_count": 12,
   "id": "6374c434",
   "metadata": {
    "execution": {
     "iopub.execute_input": "2025-06-22T06:46:00.855613Z",
     "iopub.status.busy": "2025-06-22T06:46:00.854829Z",
     "iopub.status.idle": "2025-06-22T06:46:01.488826Z",
     "shell.execute_reply": "2025-06-22T06:46:01.488142Z"
    },
    "papermill": {
     "duration": 0.642137,
     "end_time": "2025-06-22T06:46:01.490690",
     "exception": false,
     "start_time": "2025-06-22T06:46:00.848553",
     "status": "completed"
    },
    "tags": []
   },
   "outputs": [
    {
     "name": "stdout",
     "output_type": "stream",
     "text": [
      "Training until validation scores don't improve for 50 rounds\n",
      "[50]\ttrain's rmse: 4.64226\tvalid's rmse: 5.15941\n",
      "[100]\ttrain's rmse: 3.93122\tvalid's rmse: 4.96798\n",
      "[150]\ttrain's rmse: 3.43076\tvalid's rmse: 4.90059\n",
      "[200]\ttrain's rmse: 3.0314\tvalid's rmse: 4.8734\n",
      "[250]\ttrain's rmse: 2.69365\tvalid's rmse: 4.84962\n",
      "Early stopping, best iteration is:\n",
      "[239]\ttrain's rmse: 2.76226\tvalid's rmse: 4.84616\n",
      "LightGBM Validation R2 with feature engineering: 0.44016539694931933\n"
     ]
    }
   ],
   "source": [
    "import pandas as pd\n",
    "import lightgbm as lgb\n",
    "from sklearn.model_selection import train_test_split\n",
    "from sklearn.metrics import r2_score\n",
    "\n",
    "# Load data\n",
    "X = train.drop(columns=['target'])\n",
    "y = train['target']\n",
    "\n",
    "# Feature Engineering\n",
    "X['row_mean'] = X.mean(axis=1)\n",
    "X['row_std'] = X.std(axis=1)\n",
    "X['row_max'] = X.max(axis=1)\n",
    "X['row_min'] = X.min(axis=1)\n",
    "X['row_range'] = X['row_max'] - X['row_min']\n",
    "\n",
    "# Train-validation split\n",
    "X_train, X_valid, y_train, y_valid = train_test_split(X, y, test_size=0.2, random_state=42)\n",
    "\n",
    "# LightGBM datasets\n",
    "train_data = lgb.Dataset(X_train, label=y_train)\n",
    "valid_data = lgb.Dataset(X_valid, label=y_valid)\n",
    "\n",
    "# Parameters\n",
    "params = {\n",
    "    'objective': 'regression',\n",
    "    'metric': 'rmse',\n",
    "    'learning_rate': 0.05,\n",
    "    'num_leaves': 31,\n",
    "    'feature_fraction': 0.9,\n",
    "    'bagging_fraction': 0.8,\n",
    "    'bagging_freq': 5,\n",
    "    'verbose': -1,\n",
    "    'random_state': 42\n",
    "}\n",
    "\n",
    "# Training\n",
    "model = lgb.train(\n",
    "    params,\n",
    "    train_data,\n",
    "    valid_sets=[train_data, valid_data],\n",
    "    valid_names=['train', 'valid'],\n",
    "    num_boost_round=1000,\n",
    "    callbacks=[\n",
    "        lgb.early_stopping(stopping_rounds=50),\n",
    "        lgb.log_evaluation(period=50)\n",
    "    ]\n",
    ")\n",
    "\n",
    "# Prediction and Evaluation\n",
    "y_pred = model.predict(X_valid, num_iteration=model.best_iteration)\n",
    "print(\"LightGBM Validation R2 with feature engineering:\", r2_score(y_valid, y_pred))\n"
   ]
  },
  {
   "cell_type": "code",
   "execution_count": 13,
   "id": "1be185e7",
   "metadata": {
    "execution": {
     "iopub.execute_input": "2025-06-22T06:46:01.505044Z",
     "iopub.status.busy": "2025-06-22T06:46:01.504488Z",
     "iopub.status.idle": "2025-06-22T06:46:47.709768Z",
     "shell.execute_reply": "2025-06-22T06:46:47.708967Z"
    },
    "papermill": {
     "duration": 46.21879,
     "end_time": "2025-06-22T06:46:47.716293",
     "exception": false,
     "start_time": "2025-06-22T06:46:01.497503",
     "status": "completed"
    },
    "tags": []
   },
   "outputs": [
    {
     "name": "stdout",
     "output_type": "stream",
     "text": [
      "Final OOF R2: 0.47960563001360235\n",
      "✅ submission_kfold_stack.csv saved!\n"
     ]
    }
   ],
   "source": [
    "import pandas as pd\n",
    "import numpy as np\n",
    "from sklearn.model_selection import KFold\n",
    "from sklearn.ensemble import RandomForestRegressor\n",
    "from catboost import CatBoostRegressor\n",
    "from lightgbm import LGBMRegressor\n",
    "from xgboost import XGBRegressor\n",
    "from sklearn.metrics import r2_score\n",
    "\n",
    "X = train.drop(columns=[\"target\"])\n",
    "y = train[\"target\"]\n",
    "X_test = test.drop(columns=[\"id\"])\n",
    "\n",
    "# Feature engineering\n",
    "for df in [X, X_test]:\n",
    "    df[\"row_mean\"] = df.mean(axis=1)\n",
    "    df[\"row_std\"] = df.std(axis=1)\n",
    "    df[\"row_max\"] = df.max(axis=1)\n",
    "    df[\"row_min\"] = df.min(axis=1)\n",
    "    df[\"row_range\"] = df[\"row_max\"] - df[\"row_min\"]\n",
    "\n",
    "# K-Fold stacking setup\n",
    "kf = KFold(n_splits=5, shuffle=True, random_state=42)\n",
    "oof_preds = np.zeros((X.shape[0], 3))\n",
    "test_preds = np.zeros((X_test.shape[0], 3))\n",
    "\n",
    "for fold, (train_idx, val_idx) in enumerate(kf.split(X)):\n",
    "    X_tr, X_val = X.iloc[train_idx], X.iloc[val_idx]\n",
    "    y_tr, y_val = y.iloc[train_idx], y.iloc[val_idx]\n",
    "\n",
    "    lgb = LGBMRegressor(num_leaves=20, max_depth=10, learning_rate=0.05,\n",
    "                        n_estimators=200, subsample=0.8, colsample_bytree=0.8, random_state=42)\n",
    "    cat = CatBoostRegressor(iterations=1000, learning_rate=0.05, depth=6,\n",
    "                            loss_function='RMSE', early_stopping_rounds=50, verbose=0, random_state=42)\n",
    "    rf = RandomForestRegressor(n_estimators=200, max_depth=10, random_state=42, n_jobs=-1)\n",
    "\n",
    "    lgb.fit(X_tr, y_tr)\n",
    "    cat.fit(X_tr, y_tr, eval_set=(X_val, y_val))\n",
    "    rf.fit(X_tr, y_tr)\n",
    "\n",
    "    oof_preds[val_idx, 0] = lgb.predict(X_val)\n",
    "    oof_preds[val_idx, 1] = cat.predict(X_val)\n",
    "    oof_preds[val_idx, 2] = rf.predict(X_val)\n",
    "\n",
    "    test_preds[:, 0] += lgb.predict(X_test) / 5\n",
    "    test_preds[:, 1] += cat.predict(X_test) / 5\n",
    "    test_preds[:, 2] += rf.predict(X_test) / 5\n",
    "\n",
    "# Train XGBoost meta-model\n",
    "meta = XGBRegressor(n_estimators=200, learning_rate=0.05, max_depth=3, random_state=42)\n",
    "meta.fit(oof_preds, y)\n",
    "final_test_pred = meta.predict(test_preds)\n",
    "\n",
    "# Evaluate OOF R2\n",
    "print(\"Final OOF R2:\", r2_score(y, meta.predict(oof_preds)))\n",
    "\n",
    "# Save submission\n",
    "submission = pd.DataFrame({\n",
    "    \"id\": test[\"id\"],\n",
    "    \"target\": final_test_pred\n",
    "})\n",
    "submission.to_csv(\"submission_kfold_stack.csv\", index=False)\n",
    "print(\"✅ submission_kfold_stack.csv saved!\")\n"
   ]
  }
 ],
 "metadata": {
  "kaggle": {
   "accelerator": "none",
   "dataSources": [
    {
     "databundleVersionId": 12768362,
     "isSourceIdPinned": false,
     "sourceId": 105661,
     "sourceType": "competition"
    },
    {
     "datasetId": 7705271,
     "sourceId": 12229423,
     "sourceType": "datasetVersion"
    }
   ],
   "dockerImageVersionId": 31040,
   "isGpuEnabled": false,
   "isInternetEnabled": false,
   "language": "python",
   "sourceType": "notebook"
  },
  "kernelspec": {
   "display_name": "Python 3",
   "language": "python",
   "name": "python3"
  },
  "language_info": {
   "codemirror_mode": {
    "name": "ipython",
    "version": 3
   },
   "file_extension": ".py",
   "mimetype": "text/x-python",
   "name": "python",
   "nbconvert_exporter": "python",
   "pygments_lexer": "ipython3",
   "version": "3.11.11"
  },
  "papermill": {
   "default_parameters": {},
   "duration": 203.735328,
   "end_time": "2025-06-22T06:46:50.340986",
   "environment_variables": {},
   "exception": null,
   "input_path": "__notebook__.ipynb",
   "output_path": "__notebook__.ipynb",
   "parameters": {},
   "start_time": "2025-06-22T06:43:26.605658",
   "version": "2.6.0"
  }
 },
 "nbformat": 4,
 "nbformat_minor": 5
}
